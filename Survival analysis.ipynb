{
 "cells": [
  {
   "cell_type": "markdown",
   "id": "752b0d5c-e1a4-4866-901f-b0192749d0b6",
   "metadata": {},
   "source": [
    "## Survival Analysis"
   ]
  },
  {
   "cell_type": "code",
   "execution_count": 6,
   "id": "b88dbe5d-8da2-4f9b-926b-c33cba14ed94",
   "metadata": {},
   "outputs": [],
   "source": [
    "## Survival analysis gives us the probability that an event has not occured at Time T"
   ]
  },
  {
   "cell_type": "code",
   "execution_count": 1,
   "id": "6e1fb12f-00d1-4fd7-a213-4714f46f59b7",
   "metadata": {},
   "outputs": [],
   "source": [
    "## Importing the necessary analysis\n",
    "\n",
    "import numpy as np\n",
    "import pandas as pd\n",
    "from lifelines import KaplanMeierFitter,CoxPHFitter\n",
    "import matplotlib.pyplot as plt\n",
    "from lifelines.datasets import load_dd"
   ]
  },
  {
   "cell_type": "markdown",
   "id": "e0e182bc-2ccb-4eaf-888c-e3048c288c55",
   "metadata": {},
   "source": [
    "#### Data Exploration"
   ]
  },
  {
   "cell_type": "code",
   "execution_count": 16,
   "id": "ec94cc92-f7d4-4827-bab3-566ed015af21",
   "metadata": {},
   "outputs": [
    {
     "data": {
      "text/html": [
       "<div>\n",
       "<style scoped>\n",
       "    .dataframe tbody tr th:only-of-type {\n",
       "        vertical-align: middle;\n",
       "    }\n",
       "\n",
       "    .dataframe tbody tr th {\n",
       "        vertical-align: top;\n",
       "    }\n",
       "\n",
       "    .dataframe thead th {\n",
       "        text-align: right;\n",
       "    }\n",
       "</style>\n",
       "<table border=\"1\" class=\"dataframe\">\n",
       "  <thead>\n",
       "    <tr style=\"text-align: right;\">\n",
       "      <th></th>\n",
       "      <th>ctryname</th>\n",
       "      <th>cowcode2</th>\n",
       "      <th>politycode</th>\n",
       "      <th>un_region_name</th>\n",
       "      <th>un_continent_name</th>\n",
       "      <th>ehead</th>\n",
       "      <th>leaderspellreg</th>\n",
       "      <th>democracy</th>\n",
       "      <th>regime</th>\n",
       "      <th>start_year</th>\n",
       "      <th>duration</th>\n",
       "      <th>observed</th>\n",
       "    </tr>\n",
       "  </thead>\n",
       "  <tbody>\n",
       "    <tr>\n",
       "      <th>0</th>\n",
       "      <td>Afghanistan</td>\n",
       "      <td>700</td>\n",
       "      <td>700.0</td>\n",
       "      <td>Southern Asia</td>\n",
       "      <td>Asia</td>\n",
       "      <td>Mohammad Zahir Shah</td>\n",
       "      <td>Mohammad Zahir Shah.Afghanistan.1946.1952.Mona...</td>\n",
       "      <td>Non-democracy</td>\n",
       "      <td>Monarchy</td>\n",
       "      <td>1946</td>\n",
       "      <td>7</td>\n",
       "      <td>1</td>\n",
       "    </tr>\n",
       "    <tr>\n",
       "      <th>1</th>\n",
       "      <td>Afghanistan</td>\n",
       "      <td>700</td>\n",
       "      <td>700.0</td>\n",
       "      <td>Southern Asia</td>\n",
       "      <td>Asia</td>\n",
       "      <td>Sardar Mohammad Daoud</td>\n",
       "      <td>Sardar Mohammad Daoud.Afghanistan.1953.1962.Ci...</td>\n",
       "      <td>Non-democracy</td>\n",
       "      <td>Civilian Dict</td>\n",
       "      <td>1953</td>\n",
       "      <td>10</td>\n",
       "      <td>1</td>\n",
       "    </tr>\n",
       "    <tr>\n",
       "      <th>2</th>\n",
       "      <td>Afghanistan</td>\n",
       "      <td>700</td>\n",
       "      <td>700.0</td>\n",
       "      <td>Southern Asia</td>\n",
       "      <td>Asia</td>\n",
       "      <td>Mohammad Zahir Shah</td>\n",
       "      <td>Mohammad Zahir Shah.Afghanistan.1963.1972.Mona...</td>\n",
       "      <td>Non-democracy</td>\n",
       "      <td>Monarchy</td>\n",
       "      <td>1963</td>\n",
       "      <td>10</td>\n",
       "      <td>1</td>\n",
       "    </tr>\n",
       "    <tr>\n",
       "      <th>3</th>\n",
       "      <td>Afghanistan</td>\n",
       "      <td>700</td>\n",
       "      <td>700.0</td>\n",
       "      <td>Southern Asia</td>\n",
       "      <td>Asia</td>\n",
       "      <td>Sardar Mohammad Daoud</td>\n",
       "      <td>Sardar Mohammad Daoud.Afghanistan.1973.1977.Ci...</td>\n",
       "      <td>Non-democracy</td>\n",
       "      <td>Civilian Dict</td>\n",
       "      <td>1973</td>\n",
       "      <td>5</td>\n",
       "      <td>0</td>\n",
       "    </tr>\n",
       "    <tr>\n",
       "      <th>4</th>\n",
       "      <td>Afghanistan</td>\n",
       "      <td>700</td>\n",
       "      <td>700.0</td>\n",
       "      <td>Southern Asia</td>\n",
       "      <td>Asia</td>\n",
       "      <td>Nur Mohammad Taraki</td>\n",
       "      <td>Nur Mohammad Taraki.Afghanistan.1978.1978.Civi...</td>\n",
       "      <td>Non-democracy</td>\n",
       "      <td>Civilian Dict</td>\n",
       "      <td>1978</td>\n",
       "      <td>1</td>\n",
       "      <td>0</td>\n",
       "    </tr>\n",
       "  </tbody>\n",
       "</table>\n",
       "</div>"
      ],
      "text/plain": [
       "      ctryname  cowcode2  politycode un_region_name un_continent_name  \\\n",
       "0  Afghanistan       700       700.0  Southern Asia              Asia   \n",
       "1  Afghanistan       700       700.0  Southern Asia              Asia   \n",
       "2  Afghanistan       700       700.0  Southern Asia              Asia   \n",
       "3  Afghanistan       700       700.0  Southern Asia              Asia   \n",
       "4  Afghanistan       700       700.0  Southern Asia              Asia   \n",
       "\n",
       "                   ehead                                     leaderspellreg  \\\n",
       "0    Mohammad Zahir Shah  Mohammad Zahir Shah.Afghanistan.1946.1952.Mona...   \n",
       "1  Sardar Mohammad Daoud  Sardar Mohammad Daoud.Afghanistan.1953.1962.Ci...   \n",
       "2    Mohammad Zahir Shah  Mohammad Zahir Shah.Afghanistan.1963.1972.Mona...   \n",
       "3  Sardar Mohammad Daoud  Sardar Mohammad Daoud.Afghanistan.1973.1977.Ci...   \n",
       "4    Nur Mohammad Taraki  Nur Mohammad Taraki.Afghanistan.1978.1978.Civi...   \n",
       "\n",
       "       democracy         regime  start_year  duration  observed  \n",
       "0  Non-democracy       Monarchy        1946         7         1  \n",
       "1  Non-democracy  Civilian Dict        1953        10         1  \n",
       "2  Non-democracy       Monarchy        1963        10         1  \n",
       "3  Non-democracy  Civilian Dict        1973         5         0  \n",
       "4  Non-democracy  Civilian Dict        1978         1         0  "
      ]
     },
     "execution_count": 16,
     "metadata": {},
     "output_type": "execute_result"
    }
   ],
   "source": [
    "## Load the dataframe\n",
    "## The dataframe summarises the duration each president in a geographical location stays in Office\n",
    "\n",
    "data =load_dd()\n",
    "data.head()  ## Top 5 columns"
   ]
  },
  {
   "cell_type": "code",
   "execution_count": 4,
   "id": "0b61ca85-afb8-4393-8f0e-4c6d11ed635b",
   "metadata": {},
   "outputs": [
    {
     "data": {
      "text/html": [
       "<div>\n",
       "<style scoped>\n",
       "    .dataframe tbody tr th:only-of-type {\n",
       "        vertical-align: middle;\n",
       "    }\n",
       "\n",
       "    .dataframe tbody tr th {\n",
       "        vertical-align: top;\n",
       "    }\n",
       "\n",
       "    .dataframe thead th {\n",
       "        text-align: right;\n",
       "    }\n",
       "</style>\n",
       "<table border=\"1\" class=\"dataframe\">\n",
       "  <thead>\n",
       "    <tr style=\"text-align: right;\">\n",
       "      <th></th>\n",
       "      <th>ctryname</th>\n",
       "      <th>cowcode2</th>\n",
       "      <th>politycode</th>\n",
       "      <th>un_region_name</th>\n",
       "      <th>un_continent_name</th>\n",
       "      <th>ehead</th>\n",
       "      <th>leaderspellreg</th>\n",
       "      <th>democracy</th>\n",
       "      <th>regime</th>\n",
       "      <th>start_year</th>\n",
       "      <th>duration</th>\n",
       "      <th>observed</th>\n",
       "    </tr>\n",
       "  </thead>\n",
       "  <tbody>\n",
       "    <tr>\n",
       "      <th>1803</th>\n",
       "      <td>Zambia</td>\n",
       "      <td>551</td>\n",
       "      <td>551.0</td>\n",
       "      <td>Eastern Africa</td>\n",
       "      <td>Africa</td>\n",
       "      <td>Levy Patrick Mwanawasa</td>\n",
       "      <td>Levy Patrick Mwanawasa.Zambia.2002.2007.Civili...</td>\n",
       "      <td>Non-democracy</td>\n",
       "      <td>Civilian Dict</td>\n",
       "      <td>2002</td>\n",
       "      <td>6</td>\n",
       "      <td>1</td>\n",
       "    </tr>\n",
       "    <tr>\n",
       "      <th>1804</th>\n",
       "      <td>Zambia</td>\n",
       "      <td>551</td>\n",
       "      <td>551.0</td>\n",
       "      <td>Eastern Africa</td>\n",
       "      <td>Africa</td>\n",
       "      <td>Rupiah Bwezani Banda</td>\n",
       "      <td>Rupiah Bwezani Banda.Zambia.2008.2008.Civilian...</td>\n",
       "      <td>Non-democracy</td>\n",
       "      <td>Civilian Dict</td>\n",
       "      <td>2008</td>\n",
       "      <td>1</td>\n",
       "      <td>0</td>\n",
       "    </tr>\n",
       "    <tr>\n",
       "      <th>1805</th>\n",
       "      <td>Zimbabwe</td>\n",
       "      <td>552</td>\n",
       "      <td>552.0</td>\n",
       "      <td>Eastern Africa</td>\n",
       "      <td>Africa</td>\n",
       "      <td>Ian Smith</td>\n",
       "      <td>Ian Smith.Zimbabwe.1965.1978.Civilian Dict</td>\n",
       "      <td>Non-democracy</td>\n",
       "      <td>Civilian Dict</td>\n",
       "      <td>1965</td>\n",
       "      <td>14</td>\n",
       "      <td>1</td>\n",
       "    </tr>\n",
       "    <tr>\n",
       "      <th>1806</th>\n",
       "      <td>Zimbabwe</td>\n",
       "      <td>552</td>\n",
       "      <td>552.0</td>\n",
       "      <td>Eastern Africa</td>\n",
       "      <td>Africa</td>\n",
       "      <td>Abel Muzorewa</td>\n",
       "      <td>Abel Muzorewa.Zimbabwe.1979.1979.Civilian Dict</td>\n",
       "      <td>Non-democracy</td>\n",
       "      <td>Civilian Dict</td>\n",
       "      <td>1979</td>\n",
       "      <td>1</td>\n",
       "      <td>1</td>\n",
       "    </tr>\n",
       "    <tr>\n",
       "      <th>1807</th>\n",
       "      <td>Zimbabwe</td>\n",
       "      <td>552</td>\n",
       "      <td>552.0</td>\n",
       "      <td>Eastern Africa</td>\n",
       "      <td>Africa</td>\n",
       "      <td>Robert Mugabe</td>\n",
       "      <td>Robert Mugabe.Zimbabwe.1980.2008.Civilian Dict</td>\n",
       "      <td>Non-democracy</td>\n",
       "      <td>Civilian Dict</td>\n",
       "      <td>1980</td>\n",
       "      <td>29</td>\n",
       "      <td>0</td>\n",
       "    </tr>\n",
       "  </tbody>\n",
       "</table>\n",
       "</div>"
      ],
      "text/plain": [
       "      ctryname  cowcode2  politycode  un_region_name un_continent_name  \\\n",
       "1803    Zambia       551       551.0  Eastern Africa            Africa   \n",
       "1804    Zambia       551       551.0  Eastern Africa            Africa   \n",
       "1805  Zimbabwe       552       552.0  Eastern Africa            Africa   \n",
       "1806  Zimbabwe       552       552.0  Eastern Africa            Africa   \n",
       "1807  Zimbabwe       552       552.0  Eastern Africa            Africa   \n",
       "\n",
       "                       ehead  \\\n",
       "1803  Levy Patrick Mwanawasa   \n",
       "1804    Rupiah Bwezani Banda   \n",
       "1805               Ian Smith   \n",
       "1806           Abel Muzorewa   \n",
       "1807           Robert Mugabe   \n",
       "\n",
       "                                         leaderspellreg      democracy  \\\n",
       "1803  Levy Patrick Mwanawasa.Zambia.2002.2007.Civili...  Non-democracy   \n",
       "1804  Rupiah Bwezani Banda.Zambia.2008.2008.Civilian...  Non-democracy   \n",
       "1805         Ian Smith.Zimbabwe.1965.1978.Civilian Dict  Non-democracy   \n",
       "1806     Abel Muzorewa.Zimbabwe.1979.1979.Civilian Dict  Non-democracy   \n",
       "1807     Robert Mugabe.Zimbabwe.1980.2008.Civilian Dict  Non-democracy   \n",
       "\n",
       "             regime  start_year  duration  observed  \n",
       "1803  Civilian Dict        2002         6         1  \n",
       "1804  Civilian Dict        2008         1         0  \n",
       "1805  Civilian Dict        1965        14         1  \n",
       "1806  Civilian Dict        1979         1         1  \n",
       "1807  Civilian Dict        1980        29         0  "
      ]
     },
     "execution_count": 4,
     "metadata": {},
     "output_type": "execute_result"
    }
   ],
   "source": [
    "data.tail()   ##  Bottom 5 columns"
   ]
  },
  {
   "cell_type": "code",
   "execution_count": 5,
   "id": "f3e91389-b996-440b-a563-75f44308c972",
   "metadata": {},
   "outputs": [
    {
     "data": {
      "text/plain": [
       "1    1468\n",
       "0     340\n",
       "Name: observed, dtype: int64"
      ]
     },
     "execution_count": 5,
     "metadata": {},
     "output_type": "execute_result"
    }
   ],
   "source": [
    "## To ascertain our censored values count\n",
    "## Censored observations are obs that we have not been able to ascertained when the expected event occurs\n",
    "\n",
    "data.observed.value_counts()"
   ]
  },
  {
   "cell_type": "markdown",
   "id": "607356a3-a765-4ab7-bb66-fded1386aa28",
   "metadata": {},
   "source": [
    "#### Extract our Duration and Event"
   ]
  },
  {
   "cell_type": "code",
   "execution_count": 8,
   "id": "71e81d58-1896-4dc1-89a4-31a9ca271e89",
   "metadata": {},
   "outputs": [],
   "source": [
    "T =data['duration']\n",
    "E =data['observed']\n",
    "kmf=KaplanMeierFitter()   ## The non-parametric model we will be using"
   ]
  },
  {
   "cell_type": "code",
   "execution_count": 9,
   "id": "34319487-8cc4-49a8-93f3-5df5bfaf51cf",
   "metadata": {},
   "outputs": [
    {
     "data": {
      "text/plain": [
       "<lifelines.KaplanMeierFitter:\"KM_estimate\", fitted with 1808 total observations, 340 right-censored observations>"
      ]
     },
     "execution_count": 9,
     "metadata": {},
     "output_type": "execute_result"
    }
   ],
   "source": [
    "## Train our model\n",
    "kmf.fit(T,event_observed=E)"
   ]
  },
  {
   "cell_type": "code",
   "execution_count": 32,
   "id": "91d7c514-bdb4-4a47-b786-c553ce010b3a",
   "metadata": {},
   "outputs": [
    {
     "data": {
      "image/png": "[encoded data removed]",
      "text/plain": [
       "<Figure size 432x288 with 1 Axes>"
      ]
     },
     "metadata": {
      "needs_background": "light"
     },
     "output_type": "display_data"
    }
   ],
   "source": [
    "## Plotting the Survival Function of the dataframe\n",
    "## Which shows the probability that an event has not occured at a time T\n",
    "\n",
    "kmf.survival_function_.plot()\n",
    "plt.title('Survival function of political regimes');"
   ]
  },
  {
   "cell_type": "code",
   "execution_count": 11,
   "id": "89ff561c-cd49-4360-8589-90b13630ae72",
   "metadata": {},
   "outputs": [
    {
     "data": {
      "image/png": "[encoded data removed]",
      "text/plain": [
       "<Figure size 432x288 with 1 Axes>"
      ]
     },
     "metadata": {
      "needs_background": "light"
     },
     "output_type": "display_data"
    }
   ],
   "source": [
    "kmf.plot_survival_function(); ## Plotting confidence intervals"
   ]
  },
  {
   "cell_type": "code",
   "execution_count": 12,
   "id": "f1acf4d9-e846-4c42-8f49-74781fd160d0",
   "metadata": {},
   "outputs": [
    {
     "data": {
      "text/plain": [
       "4.0"
      ]
     },
     "execution_count": 12,
     "metadata": {},
     "output_type": "execute_result"
    }
   ],
   "source": [
    "kmf.median_survival_time_ ## Median time of surviving in office"
   ]
  },
  {
   "cell_type": "code",
   "execution_count": 15,
   "id": "7f51da6f-d8c4-49d2-a08a-32003c893301",
   "metadata": {},
   "outputs": [
    {
     "data": {
      "text/html": [
       "<div>\n",
       "<style scoped>\n",
       "    .dataframe tbody tr th:only-of-type {\n",
       "        vertical-align: middle;\n",
       "    }\n",
       "\n",
       "    .dataframe tbody tr th {\n",
       "        vertical-align: top;\n",
       "    }\n",
       "\n",
       "    .dataframe thead th {\n",
       "        text-align: right;\n",
       "    }\n",
       "</style>\n",
       "<table border=\"1\" class=\"dataframe\">\n",
       "  <thead>\n",
       "    <tr style=\"text-align: right;\">\n",
       "      <th></th>\n",
       "      <th>KM_estimate_lower_0.95</th>\n",
       "      <th>KM_estimate_upper_0.95</th>\n",
       "    </tr>\n",
       "  </thead>\n",
       "  <tbody>\n",
       "    <tr>\n",
       "      <th>0.5</th>\n",
       "      <td>3.0</td>\n",
       "      <td>4.0</td>\n",
       "    </tr>\n",
       "  </tbody>\n",
       "</table>\n",
       "</div>"
      ],
      "text/plain": [
       "     KM_estimate_lower_0.95  KM_estimate_upper_0.95\n",
       "0.5                     3.0                     4.0"
      ]
     },
     "execution_count": 15,
     "metadata": {},
     "output_type": "execute_result"
    }
   ],
   "source": [
    "## Confidence Interval of the median survival time\n",
    "\n",
    "from lifelines.utils import median_survival_times\n",
    "median_ci = median_survival_times(kmf.confidence_interval_)\n",
    "median_ci"
   ]
  },
  {
   "cell_type": "markdown",
   "id": "f192552d-7deb-4904-b093-cea37191cbb1",
   "metadata": {},
   "source": [
    "#### Splitting Our data into Democracy & Non-Democracy"
   ]
  },
  {
   "cell_type": "code",
   "execution_count": 18,
   "id": "03b72eee-3ce8-480e-8e90-dfdbe6ea0674",
   "metadata": {},
   "outputs": [
    {
     "data": {
      "text/plain": [
       "Democracy        1187\n",
       "Non-democracy     621\n",
       "Name: democracy, dtype: int64"
      ]
     },
     "execution_count": 18,
     "metadata": {},
     "output_type": "execute_result"
    }
   ],
   "source": [
    "data.democracy.value_counts()"
   ]
  },
  {
   "cell_type": "code",
   "execution_count": 43,
   "id": "d583348c-48af-42ae-9d6a-2bb429798091",
   "metadata": {},
   "outputs": [
    {
     "name": "stdout",
     "output_type": "stream",
     "text": [
      "The median survival time for a Democratic Govt is 3.0\n",
      "The median survival time for a Non-Democratic Govt is 6.0\n"
     ]
    },
    {
     "data": {
      "image/png": "[encoded data removed]",
      "text/plain": [
       "<Figure size 432x288 with 1 Axes>"
      ]
     },
     "metadata": {
      "needs_background": "light"
     },
     "output_type": "display_data"
    }
   ],
   "source": [
    "## Plotting Survival Function for Democracy and Non Democracy\n",
    "\n",
    "ax = plt.subplot(1,1,1)\n",
    "\n",
    "dem = (data['democracy'] == 'Democracy')\n",
    "kmf.fit (T[dem], event_observed=E[dem], label=\"Democratic Regimes\")\n",
    "kmf.plot_survival_function(ax=ax)\n",
    "print(f'The median survival time for a Democratic Govt is {kmf.median_survival_time_}')\n",
    "\n",
    "kmf.fit(T[~dem], event_observed=E[~dem], label=\"Non-democratic Regimes\")\n",
    "kmf.plot_survival_function(ax=ax)\n",
    "print(f'The median survival time for a Non-Democratic Govt is {kmf.median_survival_time_}')\n",
    "\n",
    "plt.title(\"Lifespans of different global regimes\");"
   ]
  },
  {
   "cell_type": "code",
   "execution_count": 23,
   "id": "7cf1f3ec-8c99-466d-869b-6a5473286963",
   "metadata": {},
   "outputs": [
    {
     "name": "stderr",
     "output_type": "stream",
     "text": [
      "C:\\Users\\IamFavoured\\anaconda3\\lib\\site-packages\\lifelines\\statistics.py:143: FutureWarning: In future versions `DataFrame.to_latex` is expected to utilise the base implementation of `Styler.to_latex` for formatting and rendering. The arguments signature may therefore change. It is recommended instead to use `DataFrame.style.to_latex` which also contains additional functionality.\n",
      "  return self.summary.to_latex()\n"
     ]
    },
    {
     "data": {
      "text/html": [
       "<div>\n",
       "<style scoped>\n",
       "    .dataframe tbody tr th:only-of-type {\n",
       "        vertical-align: middle;\n",
       "    }\n",
       "\n",
       "    .dataframe tbody tr th {\n",
       "        vertical-align: top;\n",
       "    }\n",
       "\n",
       "    .dataframe thead th {\n",
       "        text-align: right;\n",
       "    }\n",
       "</style>\n",
       "<table border=\"1\" class=\"dataframe\">\n",
       "  <tbody>\n",
       "    <tr>\n",
       "      <th>t_0</th>\n",
       "      <td>-1</td>\n",
       "    </tr>\n",
       "    <tr>\n",
       "      <th>null_distribution</th>\n",
       "      <td>chi squared</td>\n",
       "    </tr>\n",
       "    <tr>\n",
       "      <th>degrees_of_freedom</th>\n",
       "      <td>1</td>\n",
       "    </tr>\n",
       "    <tr>\n",
       "      <th>alpha</th>\n",
       "      <td>0.99</td>\n",
       "    </tr>\n",
       "    <tr>\n",
       "      <th>test_name</th>\n",
       "      <td>logrank_test</td>\n",
       "    </tr>\n",
       "  </tbody>\n",
       "</table>\n",
       "</div><table border=\"1\" class=\"dataframe\">\n",
       "  <thead>\n",
       "    <tr style=\"text-align: right;\">\n",
       "      <th></th>\n",
       "      <th>test_statistic</th>\n",
       "      <th>p</th>\n",
       "      <th>-log2(p)</th>\n",
       "    </tr>\n",
       "  </thead>\n",
       "  <tbody>\n",
       "    <tr>\n",
       "      <th>0</th>\n",
       "      <td>260.47</td>\n",
       "      <td>&lt;0.005</td>\n",
       "      <td>192.23</td>\n",
       "    </tr>\n",
       "  </tbody>\n",
       "</table>"
      ],
      "text/latex": [
       "\\begin{tabular}{lrrr}\n",
       "\\toprule\n",
       "{} &  test\\_statistic &             p &    -log2(p) \\\\\n",
       "\\midrule\n",
       "0 &      260.469539 &  1.355714e-58 &  192.232776 \\\\\n",
       "\\bottomrule\n",
       "\\end{tabular}\n"
      ],
      "text/plain": [
       "<lifelines.StatisticalResult: logrank_test>\n",
       "               t_0 = -1\n",
       " null_distribution = chi squared\n",
       "degrees_of_freedom = 1\n",
       "             alpha = 0.99\n",
       "         test_name = logrank_test\n",
       "\n",
       "---\n",
       " test_statistic      p  -log2(p)\n",
       "         260.47 <0.005    192.23"
      ]
     },
     "metadata": {},
     "output_type": "display_data"
    }
   ],
   "source": [
    "### Although there is a clear difference in the survival function, the log_rank test aids us to statistically confirm that by rejecting the null hypothesis\n",
    "### The null hypothesis is that there is no difference between the populations in the probability of an event\n",
    "### The null hypothesis is that both groups have the same Survival distribution curve\n",
    "### And the P value will enable us ascertain if to reject or retain the null hypothesis\n",
    "\n",
    "from lifelines.statistics import logrank_test\n",
    "results_ =logrank_test(T[dem], T[~dem],E[dem], E[~dem],alpha=0.99)\n",
    "results_.print_summary()\n",
    "\n",
    "## P value is less than 0.005, thus we reject the null hypothesis"
   ]
  },
  {
   "cell_type": "markdown",
   "id": "007adb23-e278-4103-943a-5912e63032fd",
   "metadata": {},
   "source": [
    "#### Plotting the survival function for the different Regime types"
   ]
  },
  {
   "cell_type": "code",
   "execution_count": 25,
   "id": "837b95eb-b986-4b81-b823-023a27e74100",
   "metadata": {},
   "outputs": [
    {
     "data": {
      "image/png": "[encoded data removed]",
      "text/plain": [
       "<Figure size 432x288 with 6 Axes>"
      ]
     },
     "metadata": {
      "needs_background": "light"
     },
     "output_type": "display_data"
    }
   ],
   "source": [
    "regime_types =data['regime'].unique()\n",
    "\n",
    "for i,regime_type in enumerate(regime_types):\n",
    "    ax =plt.subplot(2,3,i+1)\n",
    "    ix=data['regime'] == regime_type\n",
    "    kmf.fit(T[ix],E[ix], label=regime_type)\n",
    "    kmf.plot_survival_function(ax=ax, legend=False)\n",
    "    \n",
    "    plt.title(regime_type)\n",
    "    plt.xlim(0,50)\n",
    "    \n",
    "    if i ==0:\n",
    "        plt.ylabel('Frac. in power after $n$ years')\n",
    "        \n",
    "plt.tight_layout()"
   ]
  },
  {
   "cell_type": "code",
   "execution_count": 26,
   "id": "9a287a0e-fd7f-48b9-8bf1-2d0ec1268fc2",
   "metadata": {},
   "outputs": [
    {
     "data": {
      "text/plain": [
       "array(['Monarchy', 'Civilian Dict', 'Military Dict', 'Parliamentary Dem',\n",
       "       'Presidential Dem', 'Mixed Dem'], dtype=object)"
      ]
     },
     "execution_count": 26,
     "metadata": {},
     "output_type": "execute_result"
    }
   ],
   "source": [
    "regime_types"
   ]
  },
  {
   "cell_type": "code",
   "execution_count": 44,
   "id": "a8297e21-1174-4920-8df0-1e10db36d1a7",
   "metadata": {},
   "outputs": [
    {
     "data": {
      "image/png": "[encoded data removed]",
      "text/plain": [
       "<Figure size 432x288 with 2 Axes>"
      ]
     },
     "metadata": {
      "needs_background": "light"
     },
     "output_type": "display_data"
    }
   ],
   "source": [
    "### Summary Table\n",
    "\n",
    "kmf = KaplanMeierFitter().fit(T,E,label='all_regimes')\n",
    "kmf.plot_survival_function(at_risk_counts=True)\n",
    "plt.tight_layout();"
   ]
  },
  {
   "cell_type": "markdown",
   "id": "6491074f-7076-4a42-a7dd-c2667d56c8a3",
   "metadata": {},
   "source": [
    "#### Hazard Function"
   ]
  },
  {
   "cell_type": "code",
   "execution_count": 49,
   "id": "88b19750-dabd-46e1-a3e0-ef284dc821ab",
   "metadata": {},
   "outputs": [
    {
     "data": {
      "text/plain": [
       "<lifelines.NelsonAalenFitter:\"NA_estimate\", fitted with 1808 total observations, 340 right-censored observations>"
      ]
     },
     "execution_count": 49,
     "metadata": {},
     "output_type": "execute_result"
    }
   ],
   "source": [
    "### Hazard Rate : the risk associated with the event occuring at a particular time\n",
    "\n",
    "T= data['duration']\n",
    "E=data['observed']\n",
    "\n",
    "from lifelines import NelsonAalenFitter  ## The model\n",
    "naf =NelsonAalenFitter()  ## Instantiate the model\n",
    "naf.fit(T,event_observed=E) ## Fit the model"
   ]
  },
  {
   "cell_type": "code",
   "execution_count": 50,
   "id": "eb220a71-5480-47f7-89fa-e4f16243d286",
   "metadata": {},
   "outputs": [
    {
     "data": {
      "image/png": "[encoded data removed]",
      "text/plain": [
       "<Figure size 432x288 with 1 Axes>"
      ]
     },
     "metadata": {
      "needs_background": "light"
     },
     "output_type": "display_data"
    }
   ],
   "source": [
    "## Plot the Hazard function curve\n",
    "naf.plot_hazard(10);  "
   ]
  },
  {
   "cell_type": "code",
   "execution_count": 51,
   "id": "3100c297-6d6e-4a2c-9e83-1a51d08eaa3f",
   "metadata": {},
   "outputs": [
    {
     "data": {
      "text/plain": [
       "<AxesSubplot:xlabel='timeline'>"
      ]
     },
     "execution_count": 51,
     "metadata": {},
     "output_type": "execute_result"
    },
    {
     "data": {
      "image/png": "[encoded data removed]",
      "text/plain": [
       "<Figure size 432x288 with 1 Axes>"
      ]
     },
     "metadata": {
      "needs_background": "light"
     },
     "output_type": "display_data"
    }
   ],
   "source": [
    "## The cummulative Harzard function curve\n",
    "naf.plot_cumulative_hazard()"
   ]
  },
  {
   "cell_type": "code",
   "execution_count": 115,
   "id": "183d2f6a-4ac8-430f-9559-c5314b09f380",
   "metadata": {},
   "outputs": [
    {
     "data": {
      "text/plain": [
       "array([ 7, 10,  5,  1,  6,  4,  8, 39,  3, 13,  2, 11, 30,  9, 17, 19, 28,\n",
       "       14, 15, 20, 35, 18, 25, 22, 12, 27, 33, 47, 32, 16, 42, 29, 21, 26,\n",
       "       24, 40, 23, 38, 46, 44, 36, 31, 34], dtype=int64)"
      ]
     },
     "execution_count": 115,
     "metadata": {},
     "output_type": "execute_result"
    }
   ],
   "source": [
    "data.duration.unique()"
   ]
  },
  {
   "cell_type": "markdown",
   "id": "460485df-9014-43c7-a401-798a22293527",
   "metadata": {},
   "source": [
    "#### Weibull Parametric :Parametric model"
   ]
  },
  {
   "cell_type": "code",
   "execution_count": 58,
   "id": "1fc66118-1369-4003-9b2e-60410e654ddc",
   "metadata": {},
   "outputs": [],
   "source": [
    "from lifelines import WeibullFitter\n",
    "from lifelines.datasets import load_waltons"
   ]
  },
  {
   "cell_type": "code",
   "execution_count": 62,
   "id": "94496528-7f3a-4204-b75e-feb78b937d42",
   "metadata": {},
   "outputs": [
    {
     "data": {
      "text/html": [
       "<div>\n",
       "<style scoped>\n",
       "    .dataframe tbody tr th:only-of-type {\n",
       "        vertical-align: middle;\n",
       "    }\n",
       "\n",
       "    .dataframe tbody tr th {\n",
       "        vertical-align: top;\n",
       "    }\n",
       "\n",
       "    .dataframe thead th {\n",
       "        text-align: right;\n",
       "    }\n",
       "</style>\n",
       "<table border=\"1\" class=\"dataframe\">\n",
       "  <thead>\n",
       "    <tr style=\"text-align: right;\">\n",
       "      <th></th>\n",
       "      <th>T</th>\n",
       "      <th>E</th>\n",
       "      <th>group</th>\n",
       "    </tr>\n",
       "  </thead>\n",
       "  <tbody>\n",
       "    <tr>\n",
       "      <th>0</th>\n",
       "      <td>6.0</td>\n",
       "      <td>1</td>\n",
       "      <td>miR-137</td>\n",
       "    </tr>\n",
       "    <tr>\n",
       "      <th>1</th>\n",
       "      <td>13.0</td>\n",
       "      <td>1</td>\n",
       "      <td>miR-137</td>\n",
       "    </tr>\n",
       "    <tr>\n",
       "      <th>2</th>\n",
       "      <td>13.0</td>\n",
       "      <td>1</td>\n",
       "      <td>miR-137</td>\n",
       "    </tr>\n",
       "    <tr>\n",
       "      <th>3</th>\n",
       "      <td>13.0</td>\n",
       "      <td>1</td>\n",
       "      <td>miR-137</td>\n",
       "    </tr>\n",
       "    <tr>\n",
       "      <th>4</th>\n",
       "      <td>19.0</td>\n",
       "      <td>1</td>\n",
       "      <td>miR-137</td>\n",
       "    </tr>\n",
       "  </tbody>\n",
       "</table>\n",
       "</div>"
      ],
      "text/plain": [
       "      T  E    group\n",
       "0   6.0  1  miR-137\n",
       "1  13.0  1  miR-137\n",
       "2  13.0  1  miR-137\n",
       "3  13.0  1  miR-137\n",
       "4  19.0  1  miR-137"
      ]
     },
     "execution_count": 62,
     "metadata": {},
     "output_type": "execute_result"
    }
   ],
   "source": [
    "data =load_waltons()\n",
    "data.head()"
   ]
  },
  {
   "cell_type": "code",
   "execution_count": 63,
   "id": "fd72adbd-48e1-46fe-ad60-b561f961d45c",
   "metadata": {},
   "outputs": [
    {
     "data": {
      "text/plain": [
       "1    156\n",
       "0      7\n",
       "Name: E, dtype: int64"
      ]
     },
     "execution_count": 63,
     "metadata": {},
     "output_type": "execute_result"
    }
   ],
   "source": [
    "data.E.value_counts()"
   ]
  },
  {
   "cell_type": "code",
   "execution_count": 64,
   "id": "cc89cce0-e935-4e01-8e0e-ea328e407ebb",
   "metadata": {},
   "outputs": [],
   "source": [
    "T= data['T']\n",
    "E =data['E']\n",
    "wf= WeibullFitter().fit(T,E)"
   ]
  },
  {
   "cell_type": "code",
   "execution_count": 67,
   "id": "ffa0f990-9899-4e29-ac25-e775790585b8",
   "metadata": {},
   "outputs": [
    {
     "name": "stderr",
     "output_type": "stream",
     "text": [
      "C:\\Users\\IamFavoured\\anaconda3\\lib\\site-packages\\lifelines\\utils\\printer.py:62: FutureWarning: In future versions `DataFrame.to_latex` is expected to utilise the base implementation of `Styler.to_latex` for formatting and rendering. The arguments signature may therefore change. It is recommended instead to use `DataFrame.style.to_latex` which also contains additional functionality.\n",
      "  return summary_df[columns].to_latex(float_format=\"%.\" + str(self.decimals) + \"f\")\n"
     ]
    },
    {
     "data": {
      "text/html": [
       "<div>\n",
       "<style scoped>\n",
       "    .dataframe tbody tr th:only-of-type {\n",
       "        vertical-align: middle;\n",
       "    }\n",
       "\n",
       "    .dataframe tbody tr th {\n",
       "        vertical-align: top;\n",
       "    }\n",
       "\n",
       "    .dataframe thead th {\n",
       "        text-align: right;\n",
       "    }\n",
       "</style>\n",
       "<table border=\"1\" class=\"dataframe\">\n",
       "  <tbody>\n",
       "    <tr>\n",
       "      <th>model</th>\n",
       "      <td>lifelines.WeibullFitter</td>\n",
       "    </tr>\n",
       "    <tr>\n",
       "      <th>number of observations</th>\n",
       "      <td>163</td>\n",
       "    </tr>\n",
       "    <tr>\n",
       "      <th>number of events observed</th>\n",
       "      <td>156</td>\n",
       "    </tr>\n",
       "    <tr>\n",
       "      <th>log-likelihood</th>\n",
       "      <td>-672.06</td>\n",
       "    </tr>\n",
       "    <tr>\n",
       "      <th>hypothesis</th>\n",
       "      <td>lambda_ != 1, rho_ != 1</td>\n",
       "    </tr>\n",
       "  </tbody>\n",
       "</table>\n",
       "</div><table border=\"1\" class=\"dataframe\">\n",
       "  <thead>\n",
       "    <tr style=\"text-align: right;\">\n",
       "      <th style=\"min-width: 12px;\"></th>\n",
       "      <th style=\"min-width: 12px;\">coef</th>\n",
       "      <th style=\"min-width: 12px;\">se(coef)</th>\n",
       "      <th style=\"min-width: 12px;\">coef lower 95%</th>\n",
       "      <th style=\"min-width: 12px;\">coef upper 95%</th>\n",
       "      <th style=\"min-width: 12px;\">cmp to</th>\n",
       "      <th style=\"min-width: 12px;\">z</th>\n",
       "      <th style=\"min-width: 12px;\">p</th>\n",
       "      <th style=\"min-width: 12px;\">-log2(p)</th>\n",
       "    </tr>\n",
       "  </thead>\n",
       "  <tbody>\n",
       "    <tr>\n",
       "      <th>lambda_</th>\n",
       "      <td>55.73</td>\n",
       "      <td>1.33</td>\n",
       "      <td>53.13</td>\n",
       "      <td>58.33</td>\n",
       "      <td>1.00</td>\n",
       "      <td>41.26</td>\n",
       "      <td>&lt;0.005</td>\n",
       "      <td>inf</td>\n",
       "    </tr>\n",
       "    <tr>\n",
       "      <th>rho_</th>\n",
       "      <td>3.45</td>\n",
       "      <td>0.24</td>\n",
       "      <td>2.97</td>\n",
       "      <td>3.93</td>\n",
       "      <td>1.00</td>\n",
       "      <td>10.07</td>\n",
       "      <td>&lt;0.005</td>\n",
       "      <td>76.83</td>\n",
       "    </tr>\n",
       "  </tbody>\n",
       "</table><br><div>\n",
       "<style scoped>\n",
       "    .dataframe tbody tr th:only-of-type {\n",
       "        vertical-align: middle;\n",
       "    }\n",
       "\n",
       "    .dataframe tbody tr th {\n",
       "        vertical-align: top;\n",
       "    }\n",
       "\n",
       "    .dataframe thead th {\n",
       "        text-align: right;\n",
       "    }\n",
       "</style>\n",
       "<table border=\"1\" class=\"dataframe\">\n",
       "  <tbody>\n",
       "    <tr>\n",
       "      <th>AIC</th>\n",
       "      <td>1348.12</td>\n",
       "    </tr>\n",
       "  </tbody>\n",
       "</table>\n",
       "</div>"
      ],
      "text/latex": [
       "\\begin{tabular}{lrrrrrrrr}\n",
       "\\toprule\n",
       "{} &  coef &  se(coef) &  coef lower 95\\% &  coef upper 95\\% &  cmp to &     z &    p &  -log2(p) \\\\\n",
       "\\midrule\n",
       "lambda\\_ & 55.73 &      1.33 &           53.13 &           58.33 &    1.00 & 41.26 & 0.00 &       inf \\\\\n",
       "rho\\_    &  3.45 &      0.24 &            2.97 &            3.93 &    1.00 & 10.07 & 0.00 &     76.83 \\\\\n",
       "\\bottomrule\n",
       "\\end{tabular}\n"
      ],
      "text/plain": [
       "<lifelines.WeibullFitter:\"Weibull_estimate\", fitted with 163 total observations, 7 right-censored observations>\n",
       "   number of observations = 163\n",
       "number of events observed = 156\n",
       "           log-likelihood = -672.06\n",
       "               hypothesis = lambda_ != 1, rho_ != 1\n",
       "\n",
       "---\n",
       "          coef   se(coef)   coef lower 95%   coef upper 95%\n",
       "lambda_  55.73       1.33            53.13            58.33\n",
       "rho_      3.45       0.24             2.97             3.93\n",
       "\n",
       "          cmp to     z      p   -log2(p)\n",
       "lambda_     1.00 41.26 <0.005        inf\n",
       "rho_        1.00 10.07 <0.005      76.83\n",
       "---\n",
       "AIC = 1348.12"
      ]
     },
     "metadata": {},
     "output_type": "display_data"
    },
    {
     "data": {
      "image/png": "[encoded data removed]",
      "text/plain": [
       "<Figure size 432x288 with 1 Axes>"
      ]
     },
     "metadata": {
      "needs_background": "light"
     },
     "output_type": "display_data"
    }
   ],
   "source": [
    "wf.print_summary()\n",
    "ax=wf.plot_cumulative_density()\n",
    "ax.set_title(\"Cumulative density of Weibull model; estimated parameters\");"
   ]
  },
  {
   "cell_type": "code",
   "execution_count": 68,
   "id": "0ab13798-09d7-460d-b37b-21ff7ef8afbc",
   "metadata": {},
   "outputs": [
    {
     "data": {
      "image/png": "[encoded data removed]",
      "text/plain": [
       "<Figure size 432x288 with 1 Axes>"
      ]
     },
     "metadata": {
      "needs_background": "light"
     },
     "output_type": "display_data"
    }
   ],
   "source": [
    "### Survival function curve\n",
    "### It is the opposite of the cummulative density curve\n",
    "\n",
    "wf.plot_survival_function();"
   ]
  },
  {
   "cell_type": "markdown",
   "id": "79c3a231-d563-46c4-bd7b-0465d3956af0",
   "metadata": {},
   "source": [
    "### Survival Regression"
   ]
  },
  {
   "cell_type": "code",
   "execution_count": 78,
   "id": "756be039-9eab-468c-ac57-59826f440e4d",
   "metadata": {},
   "outputs": [],
   "source": [
    "from lifelines.datasets import load_rossi"
   ]
  },
  {
   "cell_type": "code",
   "execution_count": 79,
   "id": "6522f599-ca84-46e3-b8a1-ae2868e9c808",
   "metadata": {},
   "outputs": [],
   "source": [
    "### We have been dealing with the univariate approach\n",
    "### The multivariate approach gives us the survival function curve as well as the effect of the variable on the survival function\n",
    "\n",
    "rossi =load_rossi()"
   ]
  },
  {
   "cell_type": "code",
   "execution_count": 80,
   "id": "1bf5eacd-2b63-4e15-8301-7289d630dd00",
   "metadata": {},
   "outputs": [],
   "source": [
    "## Load the dataset\n",
    "rossi =load_rossi()"
   ]
  },
  {
   "cell_type": "code",
   "execution_count": 81,
   "id": "1acb6262-8350-4719-9bac-a897302be067",
   "metadata": {},
   "outputs": [
    {
     "data": {
      "text/html": [
       "<div>\n",
       "<style scoped>\n",
       "    .dataframe tbody tr th:only-of-type {\n",
       "        vertical-align: middle;\n",
       "    }\n",
       "\n",
       "    .dataframe tbody tr th {\n",
       "        vertical-align: top;\n",
       "    }\n",
       "\n",
       "    .dataframe thead th {\n",
       "        text-align: right;\n",
       "    }\n",
       "</style>\n",
       "<table border=\"1\" class=\"dataframe\">\n",
       "  <thead>\n",
       "    <tr style=\"text-align: right;\">\n",
       "      <th></th>\n",
       "      <th>week</th>\n",
       "      <th>arrest</th>\n",
       "      <th>fin</th>\n",
       "      <th>age</th>\n",
       "      <th>race</th>\n",
       "      <th>wexp</th>\n",
       "      <th>mar</th>\n",
       "      <th>paro</th>\n",
       "      <th>prio</th>\n",
       "    </tr>\n",
       "  </thead>\n",
       "  <tbody>\n",
       "    <tr>\n",
       "      <th>0</th>\n",
       "      <td>20</td>\n",
       "      <td>1</td>\n",
       "      <td>0</td>\n",
       "      <td>27</td>\n",
       "      <td>1</td>\n",
       "      <td>0</td>\n",
       "      <td>0</td>\n",
       "      <td>1</td>\n",
       "      <td>3</td>\n",
       "    </tr>\n",
       "    <tr>\n",
       "      <th>1</th>\n",
       "      <td>17</td>\n",
       "      <td>1</td>\n",
       "      <td>0</td>\n",
       "      <td>18</td>\n",
       "      <td>1</td>\n",
       "      <td>0</td>\n",
       "      <td>0</td>\n",
       "      <td>1</td>\n",
       "      <td>8</td>\n",
       "    </tr>\n",
       "    <tr>\n",
       "      <th>2</th>\n",
       "      <td>25</td>\n",
       "      <td>1</td>\n",
       "      <td>0</td>\n",
       "      <td>19</td>\n",
       "      <td>0</td>\n",
       "      <td>1</td>\n",
       "      <td>0</td>\n",
       "      <td>1</td>\n",
       "      <td>13</td>\n",
       "    </tr>\n",
       "    <tr>\n",
       "      <th>3</th>\n",
       "      <td>52</td>\n",
       "      <td>0</td>\n",
       "      <td>1</td>\n",
       "      <td>23</td>\n",
       "      <td>1</td>\n",
       "      <td>1</td>\n",
       "      <td>1</td>\n",
       "      <td>1</td>\n",
       "      <td>1</td>\n",
       "    </tr>\n",
       "    <tr>\n",
       "      <th>4</th>\n",
       "      <td>52</td>\n",
       "      <td>0</td>\n",
       "      <td>0</td>\n",
       "      <td>19</td>\n",
       "      <td>0</td>\n",
       "      <td>1</td>\n",
       "      <td>0</td>\n",
       "      <td>1</td>\n",
       "      <td>3</td>\n",
       "    </tr>\n",
       "  </tbody>\n",
       "</table>\n",
       "</div>"
      ],
      "text/plain": [
       "   week  arrest  fin  age  race  wexp  mar  paro  prio\n",
       "0    20       1    0   27     1     0    0     1     3\n",
       "1    17       1    0   18     1     0    0     1     8\n",
       "2    25       1    0   19     0     1    0     1    13\n",
       "3    52       0    1   23     1     1    1     1     1\n",
       "4    52       0    0   19     0     1    0     1     3"
      ]
     },
     "execution_count": 81,
     "metadata": {},
     "output_type": "execute_result"
    }
   ],
   "source": [
    "## Lets view our data Frame\n",
    "rossi.head()\n",
    "\n",
    "## The data pertain to 432 convicts who were released from Maryland state prisons in the 1970's and\n",
    "## were followed up for one year after release "
   ]
  },
  {
   "cell_type": "code",
   "execution_count": 82,
   "id": "c1207d23-eda1-47ec-b693-116a428f8a1c",
   "metadata": {},
   "outputs": [],
   "source": [
    "## Column Explanation\n",
    "## week : week of rearrest\n",
    "## arrest: 1- arrested; 0- not arrested\n",
    "## financial aid:  1-received 0-not received\n",
    "## Age: age in years at time of 1st release\n",
    "## race: 1-black, 0 -other\n",
    "## wexp : 1 - no fulltime work experience, 0-full time work experience\n",
    "## mar: marital status at time of release- 1: married, 0-not married\n",
    "## paro: released on parole: 1- no , 0- yes\n",
    "## prior: number of convictions prior to current arrest"
   ]
  },
  {
   "cell_type": "code",
   "execution_count": 87,
   "id": "27523017-c259-42cb-aab9-f488e2e13231",
   "metadata": {},
   "outputs": [],
   "source": [
    "## Cox Proportional Hazard Model\n",
    "from lifelines import CoxPHFitter"
   ]
  },
  {
   "cell_type": "code",
   "execution_count": 88,
   "id": "e769ea7a-08c7-4caf-8e23-23613c3e6203",
   "metadata": {},
   "outputs": [],
   "source": [
    "cph =CoxPHFitter()  ## instantiate the model"
   ]
  },
  {
   "cell_type": "code",
   "execution_count": 89,
   "id": "bc29526d-d371-4b2b-8e32-7e26baf52194",
   "metadata": {},
   "outputs": [
    {
     "name": "stderr",
     "output_type": "stream",
     "text": [
      "C:\\Users\\IamFavoured\\anaconda3\\lib\\site-packages\\lifelines\\utils\\printer.py:62: FutureWarning: In future versions `DataFrame.to_latex` is expected to utilise the base implementation of `Styler.to_latex` for formatting and rendering. The arguments signature may therefore change. It is recommended instead to use `DataFrame.style.to_latex` which also contains additional functionality.\n",
      "  return summary_df[columns].to_latex(float_format=\"%.\" + str(self.decimals) + \"f\")\n"
     ]
    },
    {
     "data": {
      "text/html": [
       "<div>\n",
       "<style scoped>\n",
       "    .dataframe tbody tr th:only-of-type {\n",
       "        vertical-align: middle;\n",
       "    }\n",
       "\n",
       "    .dataframe tbody tr th {\n",
       "        vertical-align: top;\n",
       "    }\n",
       "\n",
       "    .dataframe thead th {\n",
       "        text-align: right;\n",
       "    }\n",
       "</style>\n",
       "<table border=\"1\" class=\"dataframe\">\n",
       "  <tbody>\n",
       "    <tr>\n",
       "      <th>model</th>\n",
       "      <td>lifelines.CoxPHFitter</td>\n",
       "    </tr>\n",
       "    <tr>\n",
       "      <th>duration col</th>\n",
       "      <td>'week'</td>\n",
       "    </tr>\n",
       "    <tr>\n",
       "      <th>event col</th>\n",
       "      <td>'arrest'</td>\n",
       "    </tr>\n",
       "    <tr>\n",
       "      <th>baseline estimation</th>\n",
       "      <td>breslow</td>\n",
       "    </tr>\n",
       "    <tr>\n",
       "      <th>number of observations</th>\n",
       "      <td>432</td>\n",
       "    </tr>\n",
       "    <tr>\n",
       "      <th>number of events observed</th>\n",
       "      <td>114</td>\n",
       "    </tr>\n",
       "    <tr>\n",
       "      <th>partial log-likelihood</th>\n",
       "      <td>-658.75</td>\n",
       "    </tr>\n",
       "    <tr>\n",
       "      <th>time fit was run</th>\n",
       "      <td>2022-10-04 10:46:57 UTC</td>\n",
       "    </tr>\n",
       "  </tbody>\n",
       "</table>\n",
       "</div><table border=\"1\" class=\"dataframe\">\n",
       "  <thead>\n",
       "    <tr style=\"text-align: right;\">\n",
       "      <th style=\"min-width: 12px;\"></th>\n",
       "      <th style=\"min-width: 12px;\">coef</th>\n",
       "      <th style=\"min-width: 12px;\">exp(coef)</th>\n",
       "      <th style=\"min-width: 12px;\">se(coef)</th>\n",
       "      <th style=\"min-width: 12px;\">coef lower 95%</th>\n",
       "      <th style=\"min-width: 12px;\">coef upper 95%</th>\n",
       "      <th style=\"min-width: 12px;\">exp(coef) lower 95%</th>\n",
       "      <th style=\"min-width: 12px;\">exp(coef) upper 95%</th>\n",
       "      <th style=\"min-width: 12px;\">cmp to</th>\n",
       "      <th style=\"min-width: 12px;\">z</th>\n",
       "      <th style=\"min-width: 12px;\">p</th>\n",
       "      <th style=\"min-width: 12px;\">-log2(p)</th>\n",
       "    </tr>\n",
       "  </thead>\n",
       "  <tbody>\n",
       "    <tr>\n",
       "      <th>fin</th>\n",
       "      <td>-0.38</td>\n",
       "      <td>0.68</td>\n",
       "      <td>0.19</td>\n",
       "      <td>-0.75</td>\n",
       "      <td>-0.00</td>\n",
       "      <td>0.47</td>\n",
       "      <td>1.00</td>\n",
       "      <td>0.00</td>\n",
       "      <td>-1.98</td>\n",
       "      <td>0.05</td>\n",
       "      <td>4.40</td>\n",
       "    </tr>\n",
       "    <tr>\n",
       "      <th>age</th>\n",
       "      <td>-0.06</td>\n",
       "      <td>0.94</td>\n",
       "      <td>0.02</td>\n",
       "      <td>-0.10</td>\n",
       "      <td>-0.01</td>\n",
       "      <td>0.90</td>\n",
       "      <td>0.99</td>\n",
       "      <td>0.00</td>\n",
       "      <td>-2.61</td>\n",
       "      <td>0.01</td>\n",
       "      <td>6.79</td>\n",
       "    </tr>\n",
       "    <tr>\n",
       "      <th>race</th>\n",
       "      <td>0.31</td>\n",
       "      <td>1.37</td>\n",
       "      <td>0.31</td>\n",
       "      <td>-0.29</td>\n",
       "      <td>0.92</td>\n",
       "      <td>0.75</td>\n",
       "      <td>2.50</td>\n",
       "      <td>0.00</td>\n",
       "      <td>1.02</td>\n",
       "      <td>0.31</td>\n",
       "      <td>1.70</td>\n",
       "    </tr>\n",
       "    <tr>\n",
       "      <th>wexp</th>\n",
       "      <td>-0.15</td>\n",
       "      <td>0.86</td>\n",
       "      <td>0.21</td>\n",
       "      <td>-0.57</td>\n",
       "      <td>0.27</td>\n",
       "      <td>0.57</td>\n",
       "      <td>1.30</td>\n",
       "      <td>0.00</td>\n",
       "      <td>-0.71</td>\n",
       "      <td>0.48</td>\n",
       "      <td>1.06</td>\n",
       "    </tr>\n",
       "    <tr>\n",
       "      <th>mar</th>\n",
       "      <td>-0.43</td>\n",
       "      <td>0.65</td>\n",
       "      <td>0.38</td>\n",
       "      <td>-1.18</td>\n",
       "      <td>0.31</td>\n",
       "      <td>0.31</td>\n",
       "      <td>1.37</td>\n",
       "      <td>0.00</td>\n",
       "      <td>-1.14</td>\n",
       "      <td>0.26</td>\n",
       "      <td>1.97</td>\n",
       "    </tr>\n",
       "    <tr>\n",
       "      <th>paro</th>\n",
       "      <td>-0.08</td>\n",
       "      <td>0.92</td>\n",
       "      <td>0.20</td>\n",
       "      <td>-0.47</td>\n",
       "      <td>0.30</td>\n",
       "      <td>0.63</td>\n",
       "      <td>1.35</td>\n",
       "      <td>0.00</td>\n",
       "      <td>-0.43</td>\n",
       "      <td>0.66</td>\n",
       "      <td>0.59</td>\n",
       "    </tr>\n",
       "    <tr>\n",
       "      <th>prio</th>\n",
       "      <td>0.09</td>\n",
       "      <td>1.10</td>\n",
       "      <td>0.03</td>\n",
       "      <td>0.04</td>\n",
       "      <td>0.15</td>\n",
       "      <td>1.04</td>\n",
       "      <td>1.16</td>\n",
       "      <td>0.00</td>\n",
       "      <td>3.19</td>\n",
       "      <td>&lt;0.005</td>\n",
       "      <td>9.48</td>\n",
       "    </tr>\n",
       "  </tbody>\n",
       "</table><br><div>\n",
       "<style scoped>\n",
       "    .dataframe tbody tr th:only-of-type {\n",
       "        vertical-align: middle;\n",
       "    }\n",
       "\n",
       "    .dataframe tbody tr th {\n",
       "        vertical-align: top;\n",
       "    }\n",
       "\n",
       "    .dataframe thead th {\n",
       "        text-align: right;\n",
       "    }\n",
       "</style>\n",
       "<table border=\"1\" class=\"dataframe\">\n",
       "  <tbody>\n",
       "    <tr>\n",
       "      <th>Concordance</th>\n",
       "      <td>0.64</td>\n",
       "    </tr>\n",
       "    <tr>\n",
       "      <th>Partial AIC</th>\n",
       "      <td>1331.50</td>\n",
       "    </tr>\n",
       "    <tr>\n",
       "      <th>log-likelihood ratio test</th>\n",
       "      <td>33.27 on 7 df</td>\n",
       "    </tr>\n",
       "    <tr>\n",
       "      <th>-log2(p) of ll-ratio test</th>\n",
       "      <td>15.37</td>\n",
       "    </tr>\n",
       "  </tbody>\n",
       "</table>\n",
       "</div>"
      ],
      "text/latex": [
       "\\begin{tabular}{lrrrrrrrrrrr}\n",
       "\\toprule\n",
       "{} &  coef &  exp(coef) &  se(coef) &  coef lower 95\\% &  coef upper 95\\% &  exp(coef) lower 95\\% &  exp(coef) upper 95\\% &  cmp to &     z &    p &  -log2(p) \\\\\n",
       "covariate &       &            &           &                 &                 &                      &                      &         &       &      &           \\\\\n",
       "\\midrule\n",
       "fin       & -0.38 &       0.68 &      0.19 &           -0.75 &           -0.00 &                 0.47 &                 1.00 &    0.00 & -1.98 & 0.05 &      4.40 \\\\\n",
       "age       & -0.06 &       0.94 &      0.02 &           -0.10 &           -0.01 &                 0.90 &                 0.99 &    0.00 & -2.61 & 0.01 &      6.79 \\\\\n",
       "race      &  0.31 &       1.37 &      0.31 &           -0.29 &            0.92 &                 0.75 &                 2.50 &    0.00 &  1.02 & 0.31 &      1.70 \\\\\n",
       "wexp      & -0.15 &       0.86 &      0.21 &           -0.57 &            0.27 &                 0.57 &                 1.30 &    0.00 & -0.71 & 0.48 &      1.06 \\\\\n",
       "mar       & -0.43 &       0.65 &      0.38 &           -1.18 &            0.31 &                 0.31 &                 1.37 &    0.00 & -1.14 & 0.26 &      1.97 \\\\\n",
       "paro      & -0.08 &       0.92 &      0.20 &           -0.47 &            0.30 &                 0.63 &                 1.35 &    0.00 & -0.43 & 0.66 &      0.59 \\\\\n",
       "prio      &  0.09 &       1.10 &      0.03 &            0.04 &            0.15 &                 1.04 &                 1.16 &    0.00 &  3.19 & 0.00 &      9.48 \\\\\n",
       "\\bottomrule\n",
       "\\end{tabular}\n"
      ],
      "text/plain": [
       "<lifelines.CoxPHFitter: fitted with 432 total observations, 318 right-censored observations>\n",
       "             duration col = 'week'\n",
       "                event col = 'arrest'\n",
       "      baseline estimation = breslow\n",
       "   number of observations = 432\n",
       "number of events observed = 114\n",
       "   partial log-likelihood = -658.75\n",
       "         time fit was run = 2022-10-04 10:46:57 UTC\n",
       "\n",
       "---\n",
       "            coef  exp(coef)   se(coef)   coef lower 95%   coef upper 95%  exp(coef) lower 95%  exp(coef) upper 95%\n",
       "covariate                                                                                                         \n",
       "fin        -0.38       0.68       0.19            -0.75            -0.00                 0.47                 1.00\n",
       "age        -0.06       0.94       0.02            -0.10            -0.01                 0.90                 0.99\n",
       "race        0.31       1.37       0.31            -0.29             0.92                 0.75                 2.50\n",
       "wexp       -0.15       0.86       0.21            -0.57             0.27                 0.57                 1.30\n",
       "mar        -0.43       0.65       0.38            -1.18             0.31                 0.31                 1.37\n",
       "paro       -0.08       0.92       0.20            -0.47             0.30                 0.63                 1.35\n",
       "prio        0.09       1.10       0.03             0.04             0.15                 1.04                 1.16\n",
       "\n",
       "            cmp to     z      p   -log2(p)\n",
       "covariate                                 \n",
       "fin           0.00 -1.98   0.05       4.40\n",
       "age           0.00 -2.61   0.01       6.79\n",
       "race          0.00  1.02   0.31       1.70\n",
       "wexp          0.00 -0.71   0.48       1.06\n",
       "mar           0.00 -1.14   0.26       1.97\n",
       "paro          0.00 -0.43   0.66       0.59\n",
       "prio          0.00  3.19 <0.005       9.48\n",
       "---\n",
       "Concordance = 0.64\n",
       "Partial AIC = 1331.50\n",
       "log-likelihood ratio test = 33.27 on 7 df\n",
       "-log2(p) of ll-ratio test = 15.37"
      ]
     },
     "metadata": {},
     "output_type": "display_data"
    }
   ],
   "source": [
    "## Analysis summary \n",
    "## Importance lies on coef and P value\n",
    "## The null hypothesis is that the features has no effect on the survival fn\n",
    "\n",
    "cph.fit(rossi, duration_col='week',event_col='arrest')\n",
    "cph.print_summary()"
   ]
  },
  {
   "cell_type": "code",
   "execution_count": 90,
   "id": "bf22a914-6d1e-4ebf-adc6-65715fca685c",
   "metadata": {},
   "outputs": [
    {
     "data": {
      "image/png": "[encoded data removed]",
      "text/plain": [
       "<Figure size 432x288 with 1 Axes>"
      ]
     },
     "metadata": {
      "needs_background": "light"
     },
     "output_type": "display_data"
    }
   ],
   "source": [
    "## Plotting the effect of varying a covariate\n",
    "\n",
    "cph.plot_partial_effects_on_outcome(covariates='prio', values=[0,2,4,6,8,10],y='survival_function', cmap='coolwarm');"
   ]
  },
  {
   "cell_type": "code",
   "execution_count": null,
   "id": "377bdc1d-f286-4e15-9b67-8a7260dc527a",
   "metadata": {},
   "outputs": [],
   "source": []
  }
 ],
 "metadata": {
  "kernelspec": {
   "display_name": "Python 3 (ipykernel)",
   "language": "python",
   "name": "python3"
  },
  "language_info": {
   "codemirror_mode": {
    "name": "ipython",
    "version": 3
   },
   "file_extension": ".py",
   "mimetype": "text/x-python",
   "name": "python",
   "nbconvert_exporter": "python",
   "pygments_lexer": "ipython3",
   "version": "3.9.12"
  }
 },
 "nbformat": 4,
 "nbformat_minor": 5
}
